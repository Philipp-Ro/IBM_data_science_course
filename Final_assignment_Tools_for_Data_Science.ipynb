{
  "metadata": {
    "kernelspec": {
      "name": "python",
      "display_name": "Python (Pyodide)",
      "language": "python"
    },
    "language_info": {
      "codemirror_mode": {
        "name": "python",
        "version": 3
      },
      "file_extension": ".py",
      "mimetype": "text/x-python",
      "name": "python",
      "nbconvert_exporter": "python",
      "pygments_lexer": "ipython3",
      "version": "3.8"
    }
  },
  "nbformat_minor": 4,
  "nbformat": 4,
  "cells": [
    {
      "cell_type": "markdown",
      "source": "# Final assignment 'Tools for Data Science'",
      "metadata": {}
    },
    {
      "cell_type": "markdown",
      "source": "This is the submission for the final assignment from Philipp Rosin for the Tools for Data Science course by IBM.",
      "metadata": {}
    },
    {
      "cell_type": "markdown",
      "source": "In this couse we learned about various programming languages used in Data Science. Here are a fiew examples :\n1. Python \n2. R \n3. MatLab",
      "metadata": {}
    },
    {
      "cell_type": "markdown",
      "source": "In especially Python is known for extensive libarys which can be used to handle data or simplyfy coding mashine learning algorythms. Here are some examples:\n1. Pandas\n2. scikit learn\n3. Tensorflow\n4. Pytorch",
      "metadata": {}
    },
    {
      "cell_type": "markdown",
      "source": "Also other Data Science tools are used here are some of the most adoped by the Data Science community: \n1. MySql \n2. github\n3. Docker\n",
      "metadata": {}
    },
    {
      "cell_type": "markdown",
      "source": "Markdown is so popular because it can display arritmic expressions better than just comments in the code like the pythagorean theorem:\n$a^2 +b^2 = c^2$",
      "metadata": {}
    },
    {
      "cell_type": "code",
      "source": "def add(a,b):\n    return a+b\n\ndef mult(a,b):\n    return a*b",
      "metadata": {
        "trusted": true
      },
      "outputs": [],
      "execution_count": null
    },
    {
      "cell_type": "code",
      "source": "def min_to_hour(min):\n    return min/60",
      "metadata": {
        "trusted": true
      },
      "outputs": [],
      "execution_count": null
    },
    {
      "cell_type": "markdown",
      "source": "markdown hast also the ability to create unodered lists. Here is an example of a list of fruits:\n- apple\n- banana \n- strawberry",
      "metadata": {}
    },
    {
      "cell_type": "markdown",
      "source": "This notbook was creted by: Philipp Rosin ",
      "metadata": {}
    },
    {
      "cell_type": "code",
      "source": "",
      "metadata": {
        "trusted": true
      },
      "outputs": [],
      "execution_count": null
    }
  ]
}